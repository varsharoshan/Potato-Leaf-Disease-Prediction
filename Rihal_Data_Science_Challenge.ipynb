{
  "nbformat": 4,
  "nbformat_minor": 0,
  "metadata": {
    "colab": {
      "name": "Rihal Data Science Challenge.ipynb",
      "provenance": [],
      "collapsed_sections": [],
      "authorship_tag": "ABX9TyMs70SZXr+qtmerymrb/NB/",
      "include_colab_link": true
    },
    "kernelspec": {
      "name": "python3",
      "display_name": "Python 3"
    },
    "language_info": {
      "name": "python"
    }
  },
  "cells": [
    {
      "cell_type": "markdown",
      "metadata": {
        "id": "view-in-github",
        "colab_type": "text"
      },
      "source": [
        "<a href=\"https://colab.research.google.com/github/varsharoshan/Potato-Leaf-Disease-Prediction/blob/main/Rihal_Data_Science_Challenge.ipynb\" target=\"_parent\"><img src=\"https://colab.research.google.com/assets/colab-badge.svg\" alt=\"Open In Colab\"/></a>"
      ]
    },
    {
      "cell_type": "markdown",
      "source": [
        "**Importing** **the** **Dependencies** \n"
      ],
      "metadata": {
        "id": "Qdcq7SjyHv2t"
      }
    },
    {
      "cell_type": "code",
      "source": [
        "import pandas as pd\n",
        "import numpy as np\n",
        "import seaborn as sns\n",
        "import matplotlib.pyplot as plt\n",
        "from sklearn.linear_model import LinearRegression\n",
        "from sklearn.linear_model import Lasso\n",
        "from sklearn import metrics\n",
        "from sklearn.metrics import mean_squared_error\n",
        "\n"
      ],
      "metadata": {
        "id": "O4RfQus4H3ug"
      },
      "execution_count": null,
      "outputs": []
    },
    {
      "cell_type": "markdown",
      "source": [
        "**DATA COLLECTION AND PROCESSING**"
      ],
      "metadata": {
        "id": "1yZE6C6iIN4a"
      }
    },
    {
      "cell_type": "code",
      "source": [
        "pd.options.display.max_columns = 110\n",
        "df_train = pd.read_csv('/data_train.csv')\n",
        "display(df_train.head())\n",
        "df_test = pd.read_csv('/data_test.csv')\n",
        "display(df_test.head())\n"
      ],
      "metadata": {
        "id": "jZPmPVZ_IWcA"
      },
      "execution_count": null,
      "outputs": []
    },
    {
      "cell_type": "markdown",
      "source": [
        "checking the number of rows and columns"
      ],
      "metadata": {
        "id": "9w-6rTfTMgVM"
      }
    },
    {
      "cell_type": "code",
      "source": [
        "#checking the number of rows and columns\n",
        "df_train.shape\n"
      ],
      "metadata": {
        "id": "M0oChEV1MYh_"
      },
      "execution_count": null,
      "outputs": []
    },
    {
      "cell_type": "code",
      "source": [
        "df_test.shape"
      ],
      "metadata": {
        "id": "lHo4OMXvfL3i"
      },
      "execution_count": null,
      "outputs": []
    },
    {
      "cell_type": "markdown",
      "source": [
        "Getting some information about dataset \n"
      ],
      "metadata": {
        "id": "si3lsnBc6a7u"
      }
    },
    {
      "cell_type": "code",
      "source": [
        "df_train.info()"
      ],
      "metadata": {
        "colab": {
          "base_uri": "https://localhost:8080/"
        },
        "id": "ube80iqk6qBN",
        "outputId": "7aeb4a24-c806-46c1-fdc6-58694e36543d"
      },
      "execution_count": null,
      "outputs": [
        {
          "output_type": "stream",
          "name": "stdout",
          "text": [
            "<class 'pandas.core.frame.DataFrame'>\n",
            "RangeIndex: 50000 entries, 0 to 49999\n",
            "Data columns (total 17 columns):\n",
            " #   Column                 Non-Null Count  Dtype  \n",
            "---  ------                 --------------  -----  \n",
            " 0   manufacturer_name      50000 non-null  object \n",
            " 1   transmission           50000 non-null  object \n",
            " 2   color                  50000 non-null  object \n",
            " 3   odometer_value         50000 non-null  int64  \n",
            " 4   year_produced          50000 non-null  int64  \n",
            " 5   engine_fuel            50000 non-null  object \n",
            " 6   engine_type            50000 non-null  object \n",
            " 7   engine_capacity        49985 non-null  float64\n",
            " 8   body_type              50000 non-null  object \n",
            " 9   has_warranty           50000 non-null  bool   \n",
            " 10  ownership              50000 non-null  object \n",
            " 11  type_of_drive          50000 non-null  object \n",
            " 12  is_exchangeable        50000 non-null  bool   \n",
            " 13  number_of_photos       50000 non-null  int64  \n",
            " 14  number_of_maintenance  50000 non-null  int64  \n",
            " 15  duration_listed        50000 non-null  int64  \n",
            " 16  price_usd              50000 non-null  float64\n",
            "dtypes: bool(2), float64(2), int64(5), object(8)\n",
            "memory usage: 5.8+ MB\n"
          ]
        }
      ]
    },
    {
      "cell_type": "code",
      "source": [
        "df_test.info()"
      ],
      "metadata": {
        "colab": {
          "base_uri": "https://localhost:8080/"
        },
        "id": "QKVSeqLVR_qY",
        "outputId": "fa6baa71-6cd9-47ec-f6ba-a16b0eadbe3f"
      },
      "execution_count": null,
      "outputs": [
        {
          "output_type": "stream",
          "name": "stdout",
          "text": [
            "<class 'pandas.core.frame.DataFrame'>\n",
            "RangeIndex: 27000 entries, 0 to 26999\n",
            "Data columns (total 17 columns):\n",
            " #   Column                 Non-Null Count  Dtype  \n",
            "---  ------                 --------------  -----  \n",
            " 0   manufacturer_name      27000 non-null  object \n",
            " 1   transmission           27000 non-null  int64  \n",
            " 2   color                  27000 non-null  int64  \n",
            " 3   odometer_value         27000 non-null  int64  \n",
            " 4   year_produced          27000 non-null  int64  \n",
            " 5   engine_fuel            27000 non-null  int64  \n",
            " 6   engine_type            27000 non-null  int64  \n",
            " 7   engine_capacity        26995 non-null  float64\n",
            " 8   body_type              27000 non-null  int64  \n",
            " 9   has_warranty           27000 non-null  bool   \n",
            " 10  ownership              27000 non-null  int64  \n",
            " 11  type_of_drive          27000 non-null  int64  \n",
            " 12  is_exchangeable        27000 non-null  bool   \n",
            " 13  number_of_photos       27000 non-null  int64  \n",
            " 14  number_of_maintenance  27000 non-null  int64  \n",
            " 15  duration_listed        27000 non-null  int64  \n",
            " 16  price_usd              27000 non-null  float64\n",
            "dtypes: bool(2), float64(2), int64(12), object(1)\n",
            "memory usage: 3.1+ MB\n"
          ]
        }
      ]
    },
    {
      "cell_type": "markdown",
      "source": [
        "Checking the missing values"
      ],
      "metadata": {
        "id": "Od93PJZ9Cc_y"
      }
    },
    {
      "cell_type": "code",
      "source": [
        "df_train.isnull().sum()"
      ],
      "metadata": {
        "colab": {
          "base_uri": "https://localhost:8080/"
        },
        "id": "BmsbTh3MCbwc",
        "outputId": "2e5f80e1-7eb3-43c4-f0a8-cbec26a92cf0"
      },
      "execution_count": null,
      "outputs": [
        {
          "output_type": "execute_result",
          "data": {
            "text/plain": [
              "manufacturer_name         0\n",
              "transmission              0\n",
              "color                     0\n",
              "odometer_value            0\n",
              "year_produced             0\n",
              "engine_fuel               0\n",
              "engine_type               0\n",
              "engine_capacity          15\n",
              "body_type                 0\n",
              "has_warranty              0\n",
              "ownership                 0\n",
              "type_of_drive             0\n",
              "is_exchangeable           0\n",
              "number_of_photos          0\n",
              "number_of_maintenance     0\n",
              "duration_listed           0\n",
              "price_usd                 0\n",
              "dtype: int64"
            ]
          },
          "metadata": {},
          "execution_count": 23
        }
      ]
    },
    {
      "cell_type": "code",
      "source": [
        "df_test.isnull().sum()"
      ],
      "metadata": {
        "colab": {
          "base_uri": "https://localhost:8080/"
        },
        "id": "D6TlmkJ6R8zD",
        "outputId": "d18f274c-067a-42dd-afca-f11bab845392"
      },
      "execution_count": null,
      "outputs": [
        {
          "output_type": "execute_result",
          "data": {
            "text/plain": [
              "manufacturer_name        0\n",
              "transmission             0\n",
              "color                    0\n",
              "odometer_value           0\n",
              "year_produced            0\n",
              "engine_fuel              0\n",
              "engine_type              0\n",
              "engine_capacity          5\n",
              "body_type                0\n",
              "has_warranty             0\n",
              "ownership                0\n",
              "type_of_drive            0\n",
              "is_exchangeable          0\n",
              "number_of_photos         0\n",
              "number_of_maintenance    0\n",
              "duration_listed          0\n",
              "price_usd                0\n",
              "dtype: int64"
            ]
          },
          "metadata": {},
          "execution_count": 43
        }
      ]
    },
    {
      "cell_type": "markdown",
      "source": [
        "**Imputing the missing values**       \n",
        "\n",
        "There are several ways of replacing missing values:\n",
        "Replacing with mean:This is the most common method of imputing the missing values of numeric columns. We use 'fillna' method for imputing the column \"engine_capacity\" with the mean of respective column values.\n"
      ],
      "metadata": {
        "id": "4IZBXzUNFvWZ"
      }
    },
    {
      "cell_type": "code",
      "source": [
        "#replace the missing values for columns with mean in training set\n",
        "df_train['engine_capacity'] = df_train['engine_capacity'].fillna(df_train['engine_capacity'].mean())\n"
      ],
      "metadata": {
        "id": "aNhKgwaLHJef"
      },
      "execution_count": null,
      "outputs": []
    },
    {
      "cell_type": "code",
      "source": [
        "df_train.isnull().sum()"
      ],
      "metadata": {
        "colab": {
          "base_uri": "https://localhost:8080/"
        },
        "id": "hodyvfOLIFG4",
        "outputId": "b3004130-c9e5-41af-d06e-5da178fe2a3c"
      },
      "execution_count": null,
      "outputs": [
        {
          "output_type": "execute_result",
          "data": {
            "text/plain": [
              "manufacturer_name        0\n",
              "transmission             0\n",
              "color                    0\n",
              "odometer_value           0\n",
              "year_produced            0\n",
              "engine_fuel              0\n",
              "engine_type              0\n",
              "engine_capacity          0\n",
              "body_type                0\n",
              "has_warranty             0\n",
              "ownership                0\n",
              "type_of_drive            0\n",
              "is_exchangeable          0\n",
              "number_of_photos         0\n",
              "number_of_maintenance    0\n",
              "duration_listed          0\n",
              "price_usd                0\n",
              "dtype: int64"
            ]
          },
          "metadata": {},
          "execution_count": 25
        }
      ]
    },
    {
      "cell_type": "code",
      "source": [
        "#replace the missing values for columns with mean in test set\n",
        "df_test['engine_capacity'] = df_test['engine_capacity'].fillna(df_test['engine_capacity'].mean())"
      ],
      "metadata": {
        "id": "rmNkg_WBSciO"
      },
      "execution_count": null,
      "outputs": []
    },
    {
      "cell_type": "code",
      "source": [
        "df_test.isnull().sum()"
      ],
      "metadata": {
        "id": "tLuFIsi-SnDJ"
      },
      "execution_count": null,
      "outputs": []
    },
    {
      "cell_type": "markdown",
      "source": [
        "checking the distribution of categorical data"
      ],
      "metadata": {
        "id": "aQGibNEb_yWj"
      }
    },
    {
      "cell_type": "code",
      "source": [
        "print(df_train.ownership.value_counts())\n",
        "print(df_train.color.value_counts())\n",
        "print(df_train.transmission.value_counts())\n",
        "print(df_train.engine_fuel.value_counts())\n",
        "print(df_train.engine_type.value_counts())\n",
        "print(df_train.body_type.value_counts())\n",
        "print(df_train.type_of_drive.value_counts())"
      ],
      "metadata": {
        "id": "jzt7mXJ9_-eS"
      },
      "execution_count": null,
      "outputs": []
    },
    {
      "cell_type": "code",
      "source": [
        "print(df_test.ownership.value_counts())\n",
        "print(df_test.color.value_counts())\n",
        "print(df_test.transmission.value_counts())\n",
        "print(df_test.engine_fuel.value_counts())\n",
        "print(df_test.engine_type.value_counts())\n",
        "print(df_test.body_type.value_counts())\n",
        "print(df_test.type_of_drive.value_counts())\n"
      ],
      "metadata": {
        "id": "Ou58BDpJ7tEW"
      },
      "execution_count": null,
      "outputs": []
    },
    {
      "cell_type": "markdown",
      "source": [
        "\n",
        "**Encoding the Categorical Data**\n",
        "\n",
        "Encoding categorical variables is an important step in the data science process,before we can use it to fit and evaluate a model.Here,Label encoding is used to replace the object datatype comprising strings into numerical values"
      ],
      "metadata": {
        "id": "cLuLcKEh5GSM"
      }
    },
    {
      "cell_type": "markdown",
      "source": [
        "Label encoding or Ordinal encoding method\n",
        "\n"
      ],
      "metadata": {
        "id": "JfFIwmwg-GLV"
      }
    },
    {
      "cell_type": "code",
      "source": [
        "#Create object of ordinalencoding\n",
        "cleanup_nums={\"transmission\":  {\"manual\":0,\"automatic\":1},\n",
        "              \"color\":         {\"black\":0,\"silver\":1,\"blue\":2,\"white\":3,\"grey\":4,\n",
        "                                \"red\":5,\"green\":6,\"other\":7,\"brown\":8,\"violet\":9,\n",
        "                                \"yellow\":10,\"orange\":11},\n",
        "              \"engine_fuel\":   {\"gasoline\":0,\"diesel\":1,\"gas\":2,\"hybrid-petrol\":3,\n",
        "                                \"electric\":4,\"hybrid-diesel\":5},\n",
        "              \"engine_type\":   {\"gasoline\":0,\"diesel\":1,\"electric\":2},\n",
        "              \"body_type\":     {\"sedan\":0,\"hatchback\":1,\"universal\":2,\"suv\":3,\n",
        "                                \"minivan\":4,\"minibus\":5,\"van\":6,\"coupe\":7,\"liftback\":8,\n",
        "                                \"pickup\":9,\"cabriolet\":10,\"limousine\":11},\n",
        "              \"ownership\":     {\"owned\":0,\"new\":1,\"emergency\":2},\n",
        "              \"type_of_drive\": {\"front\":0,\"rear\":1,\"all\":2},\n",
        "              \"has_warranty\":  {\"True\":1,\"False\":0},\n",
        "              \"is_exchangeable\":{\"True\":0,\"False\":1}\n",
        "}"
      ],
      "metadata": {
        "id": "5T5n6ZpS89HQ"
      },
      "execution_count": null,
      "outputs": []
    },
    {
      "cell_type": "code",
      "source": [
        "#replace the values of categorical data in training set with numerical values\n",
        "df_train = df_train.replace(cleanup_nums)\n",
        "df_train.head()"
      ],
      "metadata": {
        "id": "Ky0E0cFM_rS4"
      },
      "execution_count": null,
      "outputs": []
    },
    {
      "cell_type": "code",
      "source": [
        "#check whether the datatype of categorical variables changed\n",
        "df_train.info()"
      ],
      "metadata": {
        "id": "bxw2HJYwgQm3"
      },
      "execution_count": null,
      "outputs": []
    },
    {
      "cell_type": "code",
      "source": [
        "##replace the values of categorical data in test set with numerical values\n",
        "df_test = df_test.replace(cleanup_nums)\n",
        "df_test.head()"
      ],
      "metadata": {
        "id": "NDRg1innAiNB"
      },
      "execution_count": null,
      "outputs": []
    },
    {
      "cell_type": "code",
      "source": [
        "# we only use other features except, \"manufacturer name and \"price_usd\", hence drop these columns.\n",
        "# We use axis=1, to drop a column, and,axis=0, to drop a row\n",
        "#Splitting Training data into input(x) and output(y)\n",
        "df_train_x = df_train.drop([\"manufacturer_name\",\"price_usd\"],axis=1)\n",
        "df_train_y = df_train[\"price_usd\"]"
      ],
      "metadata": {
        "id": "q_UlHMqh62nS"
      },
      "execution_count": null,
      "outputs": []
    },
    {
      "cell_type": "code",
      "source": [
        "print(df_train_x)"
      ],
      "metadata": {
        "id": "DTay1zE6-2Yg"
      },
      "execution_count": null,
      "outputs": []
    },
    {
      "cell_type": "code",
      "source": [
        "print(df_train_y)"
      ],
      "metadata": {
        "id": "ST29Ic3m_Bkz"
      },
      "execution_count": null,
      "outputs": []
    },
    {
      "cell_type": "code",
      "source": [
        "#Splitting Test data into input(x) and output(y)\n",
        "df_test_x = df_test.drop([\"manufacturer_name\",\"price_usd\"],axis=1)\n",
        "df_test_y = df_test[\"price_usd\"]"
      ],
      "metadata": {
        "id": "BhYxDA9x_8h_"
      },
      "execution_count": null,
      "outputs": []
    },
    {
      "cell_type": "markdown",
      "source": [
        "**MODEL** **TRAINING**"
      ],
      "metadata": {
        "id": "yfGVVVxxAmca"
      }
    },
    {
      "cell_type": "markdown",
      "source": [
        "  1.**Linear Regression**"
      ],
      "metadata": {
        "id": "wdWH-iRTA-lF"
      }
    },
    {
      "cell_type": "code",
      "source": [
        "# loading linear regression model\n",
        "lin_reg_model = LinearRegression()\n"
      ],
      "metadata": {
        "id": "P-f1f4kJAq69"
      },
      "execution_count": null,
      "outputs": []
    },
    {
      "cell_type": "code",
      "source": [
        "#using the training dataset only\n",
        "lin_reg_model.fit(df_train_x,df_train_y)"
      ],
      "metadata": {
        "colab": {
          "base_uri": "https://localhost:8080/"
        },
        "id": "XbuA0r_yHMtz",
        "outputId": "e74f4957-0ae7-4edd-f5ff-5f6862b6c865"
      },
      "execution_count": null,
      "outputs": [
        {
          "output_type": "execute_result",
          "data": {
            "text/plain": [
              "LinearRegression()"
            ]
          },
          "metadata": {},
          "execution_count": 34
        }
      ]
    },
    {
      "cell_type": "markdown",
      "source": [
        "Model Evaluation using Training Data"
      ],
      "metadata": {
        "id": "Vy1HLpxIJyCp"
      }
    },
    {
      "cell_type": "code",
      "source": [
        "#prediction on training data\n",
        "training_data_prediction = lin_reg_model.predict(df_train_x)\n",
        "print(training_data_prediction)"
      ],
      "metadata": {
        "colab": {
          "base_uri": "https://localhost:8080/"
        },
        "id": "wiwfvJIrJ1dZ",
        "outputId": "f1af70e8-ceab-492e-a2e1-7649022eb404"
      },
      "execution_count": null,
      "outputs": [
        {
          "output_type": "stream",
          "name": "stdout",
          "text": [
            "[13513.25077613  8568.27282868 10707.94734136 ...  3997.72966021\n",
            "  5478.66527724  5235.73419224]\n"
          ]
        }
      ]
    },
    {
      "cell_type": "code",
      "source": [
        "#Mean Squared Error\n",
        "MSE = mean_squared_error(df_train_y,training_data_prediction)\n",
        "print(\"Mean squared error:\", MSE)"
      ],
      "metadata": {
        "colab": {
          "base_uri": "https://localhost:8080/"
        },
        "id": "FOjjYtJMV7tv",
        "outputId": "9973cace-40d0-48af-e8ce-3956ea01d2c5"
      },
      "execution_count": null,
      "outputs": [
        {
          "output_type": "stream",
          "name": "stdout",
          "text": [
            "Mean squared error: 13390943.473078975\n"
          ]
        }
      ]
    },
    {
      "cell_type": "code",
      "source": [
        "#R squared Error\n",
        "error_score = metrics.r2_score(df_train_y,training_data_prediction)\n",
        "print(\"R squared error:\", error_score)"
      ],
      "metadata": {
        "colab": {
          "base_uri": "https://localhost:8080/"
        },
        "id": "d2rI8-_4Lr88",
        "outputId": "b03bf7aa-839a-42c6-e04b-60b418e6ebed"
      },
      "execution_count": null,
      "outputs": [
        {
          "output_type": "stream",
          "name": "stdout",
          "text": [
            "R squared error: 0.6798148737588099\n"
          ]
        }
      ]
    },
    {
      "cell_type": "markdown",
      "source": [
        "Visualize the actual prices and predicted prices"
      ],
      "metadata": {
        "id": "bdFf0rF7PevF"
      }
    },
    {
      "cell_type": "code",
      "source": [
        "plt.scatter(df_train_y,training_data_prediction)\n",
        "plt.xlabel(\"Actual Price\")\n",
        "plt.ylabel(\"Predicted Price\")\n",
        "plt.title(\"Actual Prices vs Predicted Prices\")\n",
        "plt.show"
      ],
      "metadata": {
        "colab": {
          "base_uri": "https://localhost:8080/",
          "height": 312
        },
        "id": "QEyv9GbNPsSC",
        "outputId": "eb2a3df3-b3c4-44d9-ad54-55b96b36b778"
      },
      "execution_count": null,
      "outputs": [
        {
          "output_type": "execute_result",
          "data": {
            "text/plain": [
              "<function matplotlib.pyplot.show>"
            ]
          },
          "metadata": {},
          "execution_count": 40
        },
        {
          "output_type": "display_data",
          "data": {
            "text/plain": [
              "<Figure size 432x288 with 1 Axes>"
            ],
            "image/png": "[encoded data removed]"
          },
          "metadata": {
            "needs_background": "light"
          }
        }
      ]
    },
    {
      "cell_type": "markdown",
      "source": [
        "Model Evaluation using Test Data"
      ],
      "metadata": {
        "id": "Mho1SeRuRjPL"
      }
    },
    {
      "cell_type": "code",
      "source": [
        "#prediction on test data\n",
        "test_data_prediction = lin_reg_model.predict(df_test_x)"
      ],
      "metadata": {
        "id": "QDXaHky2Q6hG"
      },
      "execution_count": null,
      "outputs": []
    },
    {
      "cell_type": "code",
      "source": [
        "#Mean Squared Error\n",
        "MSE = mean_squared_error(df_test_y,test_data_prediction)\n",
        "print(\"Mean squared error:\", MSE)"
      ],
      "metadata": {
        "colab": {
          "base_uri": "https://localhost:8080/"
        },
        "id": "1BxDoJ9ya8FT",
        "outputId": "1b03ebd8-89e9-4664-ebe0-636f7f088d4e"
      },
      "execution_count": 59,
      "outputs": [
        {
          "output_type": "stream",
          "name": "stdout",
          "text": [
            "Mean squared error: 12685381.244072182\n"
          ]
        }
      ]
    },
    {
      "cell_type": "code",
      "source": [
        "#R squared Error\n",
        "error_score = metrics.r2_score(df_test_y,test_data_prediction)\n",
        "print(\"R squared error:\", error_score)"
      ],
      "metadata": {
        "colab": {
          "base_uri": "https://localhost:8080/"
        },
        "id": "9sh9_YXuRu2m",
        "outputId": "72b13e2b-dc86-4884-aa80-0d330c04d047"
      },
      "execution_count": null,
      "outputs": [
        {
          "output_type": "stream",
          "name": "stdout",
          "text": [
            "R squared error: 0.6861663929614372\n"
          ]
        }
      ]
    },
    {
      "cell_type": "code",
      "source": [
        "plt.scatter(df_test_y,test_data_prediction)\n",
        "plt.xlabel(\"Actual Price\")\n",
        "plt.ylabel(\"Predicted Price\")\n",
        "plt.title(\"Actual Prices vs Predicted Prices\")\n",
        "plt.show"
      ],
      "metadata": {
        "colab": {
          "base_uri": "https://localhost:8080/",
          "height": 312
        },
        "id": "CuBg9UouTLmY",
        "outputId": "c68f1a62-bbf2-4bd1-ed16-ddaeceb64222"
      },
      "execution_count": null,
      "outputs": [
        {
          "output_type": "execute_result",
          "data": {
            "text/plain": [
              "<function matplotlib.pyplot.show>"
            ]
          },
          "metadata": {},
          "execution_count": 51
        },
        {
          "output_type": "display_data",
          "data": {
            "text/plain": [
              "<Figure size 432x288 with 1 Axes>"
            ],
            "image/png": "[encoded data removed]"
          },
          "metadata": {
            "needs_background": "light"
          }
        }
      ]
    }
  ]
}